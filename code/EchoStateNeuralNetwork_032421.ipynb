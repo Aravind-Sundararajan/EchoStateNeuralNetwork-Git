{
 "cells": [
  {
   "cell_type": "code",
   "execution_count": 4,
   "metadata": {},
   "outputs": [],
   "source": [
    "# General imports\n",
    "import numpy as np\n",
    "import scipy.io\n",
    "from sklearn.preprocessing import OneHotEncoder\n",
    "\n",
    "# Custom imports\n",
    "from modules import RC_model"
   ]
  },
  {
   "cell_type": "code",
   "execution_count": 5,
   "metadata": {},
   "outputs": [
    {
     "name": "stdout",
     "output_type": "stream",
     "text": [
      "{'dataset_name': 'ESNN5np564Both042621', 'seed': 1, 'n_internal_units': 495, 'spectral_radius': 0.53, 'leak': 0.66, 'connectivity': 0.25, 'input_scaling': 0.0878, 'noise_level': 0.01, 'n_drop': 5, 'bidir': False, 'circ': False, 'dimred_method': 'pca', 'n_dim': 168, 'mts_rep': 'reservoir', 'w_ridge_embedding': 11.0, 'readout_type': 'lin', 'w_ridge': 4.0, 'svm_gamma': 0.0055, 'svm_C': 5.5, 'mlp_layout': (9, 9), 'num_epochs': 2000, 'w_l2': 0.001, 'nonlinearity': 'tanh'}\n"
     ]
    }
   ],
   "source": [
    "# ============ RC model configuration and hyperparameter values ============\n",
    "config = {}\n",
    "config['dataset_name'] = 'ESNN5np564Both042621'\n",
    "\n",
    "config['seed'] = 1\n",
    "np.random.seed(config['seed'])\n",
    "\n",
    "# Hyperarameters of the reservoir\n",
    "config['n_internal_units'] = 495        # size of the reservoir\n",
    "config['spectral_radius'] = 0.53        # largest eigenvalue of the reservoir\n",
    "config['leak'] = 0.66                   # amount of leakage in the reservoir state update (None or 1.0 --> no leakage)\n",
    "config['connectivity'] = 0.25           # percentage of nonzero connections in the reservoir\n",
    "config['input_scaling'] = 0.0878        # scaling of the input weights\n",
    "config['noise_level'] = 0.01            # noise in the reservoir state update\n",
    "config['n_drop'] = 5                    # transient states to be dropped\n",
    "config['bidir'] = False                 # if True, use bidirectional reservoir\n",
    "config['circ'] = False                  # use reservoir with circle topology\n",
    "\n",
    "# Dimensionality reduction hyperparameters\n",
    "config['dimred_method'] ='pca'       # options: {None (no dimensionality reduction), 'pca', 'tenpca'}\n",
    "config['n_dim'] = 168                    # number of resulting dimensions after the dimensionality reduction procedure\n",
    "\n",
    "# Type of MTS representation\n",
    "config['mts_rep'] = 'reservoir'         # MTS representation:  {'last', 'mean', 'output', 'reservoir'}\n",
    "config['w_ridge_embedding'] = 11.0      # regularization parameter of the ridge regression\n",
    "\n",
    "# Type of readout\n",
    "config['readout_type'] = 'lin'          # readout used for classification: {'lin', 'mlp', 'svm'}\n",
    "\n",
    "# Linear readout hyperparameters\n",
    "config['w_ridge'] = 4.0                 # regularization of the ridge regression readout\n",
    "\n",
    "# SVM readout hyperparameters\n",
    "config['svm_gamma'] = 0.0055             # bandwith of the RBF kernel\n",
    "config['svm_C'] = 5.5                   # regularization for SVM hyperplane\n",
    "\n",
    "# MLP readout hyperparameters\n",
    "config['mlp_layout'] = (9,9)          # neurons in each MLP layer\n",
    "config['num_epochs'] = 2000             # number of epochs \n",
    "config['w_l2'] = 0.001                  # weight of the L2 regularization\n",
    "config['nonlinearity'] = 'tanh'         # type of activation function {'relu', 'tanh', 'logistic', 'identity'}\n",
    "\n",
    "print(config)"
   ]
  },
  {
   "cell_type": "code",
   "execution_count": 6,
   "metadata": {},
   "outputs": [
    {
     "name": "stdout",
     "output_type": "stream",
     "text": [
      "Loaded ESNN5np564Both042621 - Tr: (5509, 128, 45), Te: (3649, 128, 45)\n"
     ]
    }
   ],
   "source": [
    "# ============ Load dataset ============\n",
    "data = scipy.io.loadmat('../dataset/'+config['dataset_name']+'.mat')\n",
    "Xtr = data['X']  # shape is [N,T,V]\n",
    "if len(Xtr.shape) < 3:\n",
    "    Xtr = np.atleast_3d(Xtr)\n",
    "Ytr = data['Y']  # shape is [N,1]\n",
    "Xte = data['Xte']\n",
    "if len(Xte.shape) < 3:\n",
    "    Xte = np.atleast_3d(Xte)\n",
    "Yte = data['Yte']\n",
    "\n",
    "print('Loaded '+config['dataset_name']+' - Tr: '+ str(Xtr.shape)+', Te: '+str(Xte.shape))\n",
    "\n",
    "# One-hot encoding for labels\n",
    "onehot_encoder = OneHotEncoder(sparse=False)\n",
    "Ytr = onehot_encoder.fit_transform(Ytr)\n",
    "Yte = onehot_encoder.transform(Yte)"
   ]
  },
  {
   "cell_type": "code",
   "execution_count": 7,
   "metadata": {},
   "outputs": [
    {
     "name": "stdout",
     "output_type": "stream",
     "text": [
      "Training time = 1.64 seconds\n",
      "Accuracy = 0.814, F1 = 0.809\n"
     ]
    }
   ],
   "source": [
    "# ============ Initialize, train and evaluate the RC model ============\n",
    "classifier =  RC_model(\n",
    "                        reservoir=None,     \n",
    "                        n_internal_units=config['n_internal_units'],\n",
    "                        spectral_radius=config['spectral_radius'],\n",
    "                        leak=config['leak'],\n",
    "                        connectivity=config['connectivity'],\n",
    "                        input_scaling=config['input_scaling'],\n",
    "                        noise_level=config['noise_level'],\n",
    "                        circle=config['circ'],\n",
    "                        n_drop=config['n_drop'],\n",
    "                        bidir=config['bidir'],\n",
    "                        dimred_method=config['dimred_method'], \n",
    "                        n_dim=config['n_dim'],\n",
    "                        mts_rep=config['mts_rep'],\n",
    "                        w_ridge_embedding=config['w_ridge_embedding'],\n",
    "                        readout_type=config['readout_type'],            \n",
    "                        w_ridge=config['w_ridge'],              \n",
    "                        mlp_layout=config['mlp_layout'],\n",
    "                        num_epochs=config['num_epochs'],\n",
    "                        w_l2=config['w_l2'],\n",
    "                        nonlinearity=config['nonlinearity'], \n",
    "                        svm_gamma=config['svm_gamma'],\n",
    "                        svm_C=config['svm_C']\n",
    "                        )\n",
    "\n",
    "tr_time = classifier.train(Xtr, Ytr)\n",
    "print('Training time = %.2f seconds'%tr_time)\n",
    "\n",
    "accuracy, f1 = classifier.test(Xte, Yte)\n",
    "print('Accuracy = %.3f, F1 = %.3f'%(accuracy, f1))\n"
   ]
  },
  {
   "cell_type": "code",
   "execution_count": null,
   "metadata": {},
   "outputs": [],
   "source": [
    "classifier.predictions(Xte, Yte)"
   ]
  },
  {
   "cell_type": "code",
   "execution_count": null,
   "metadata": {},
   "outputs": [],
   "source": []
  }
 ],
 "metadata": {
  "kernelspec": {
   "display_name": "Python 3",
   "language": "python",
   "name": "python3"
  },
  "language_info": {
   "codemirror_mode": {
    "name": "ipython",
    "version": 3
   },
   "file_extension": ".py",
   "mimetype": "text/x-python",
   "name": "python",
   "nbconvert_exporter": "python",
   "pygments_lexer": "ipython3",
   "version": "3.8.5"
  }
 },
 "nbformat": 4,
 "nbformat_minor": 4
}
