{
 "cells": [
  {
   "cell_type": "code",
   "execution_count": 4,
   "metadata": {},
   "outputs": [],
   "source": [
    "\"\"\"\n",
    "Compute PCA on a dataset of multivariate time series represented as 3-dimensional tensor\n",
    "and reduces the size along the third dimension:\n",
    "    [N, T, V] --> [N, T, D]\n",
    "with D <= V.\n",
    "The input dataset must be a 3-dimensional tensor with shapes\n",
    "- N: number of observations\n",
    "- T: number of time steps in the time series\n",
    "- V: number of variables in the time series\n",
    "\"\"\"\n",
    "\n",
    "import numpy as np\n",
    "import numpy.linalg as linalg\n",
    "\n",
    "class tensorPCA:\n",
    "    \n",
    "    def __init__(self, n_components):\n",
    "        self.n_components=n_components\n",
    "        self.first_eigs = None\n",
    "        \n",
    "    def fit(self, X): # X has shape [N,T,V]\n",
    "        \n",
    "        if len(X.shape) != 3:\n",
    "            raise RuntimeError('Input must be a 3d tensor')\n",
    "        \n",
    "        Xt = np.swapaxes(X,1,2)  # [N,T,V] --> [N,V,T]\n",
    "        Xm = np.expand_dims(np.mean(X, axis=0), axis=0) # mean sample\n",
    "        Xmt = np.swapaxes(Xm,1,2)\n",
    "        \n",
    "        C = np.tensordot(X-Xm,Xt-Xmt,axes=([1,0],[2,0])) / (X.shape[0]-1) # covariance of 0-mode slices\n",
    "        \n",
    "        # sort eigenvalues of covariance matrix\n",
    "        eigenValues, eigenVectors = linalg.eig(C)\n",
    "        idx = eigenValues.argsort()[::-1]   \n",
    "        eigenVectors = eigenVectors[:,idx]\n",
    "        \n",
    "        self.first_eigs = eigenVectors[:,:self.n_components]\n",
    "        \n",
    "        \n",
    "    def transform(self, X):\n",
    "        return np.einsum('klj,ji->kli',X,self.first_eigs)\n",
    "    \n",
    "    def fit_transform(self, X):\n",
    "        self.fit(X)\n",
    "        return self.transform(X)"
   ]
  },
  {
   "cell_type": "code",
   "execution_count": null,
   "metadata": {},
   "outputs": [],
   "source": []
  }
 ],
 "metadata": {
  "kernelspec": {
   "display_name": "Python 3",
   "language": "python",
   "name": "python3"
  },
  "language_info": {
   "codemirror_mode": {
    "name": "ipython",
    "version": 3
   },
   "file_extension": ".py",
   "mimetype": "text/x-python",
   "name": "python",
   "nbconvert_exporter": "python",
   "pygments_lexer": "ipython3",
   "version": "3.8.5"
  }
 },
 "nbformat": 4,
 "nbformat_minor": 4
}
